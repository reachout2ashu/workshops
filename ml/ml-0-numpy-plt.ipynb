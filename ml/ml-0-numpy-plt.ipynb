{
 "cells": [
  {
   "cell_type": "markdown",
   "metadata": {},
   "source": [
    "# WIP notice\n",
    "This is a Work-In-Progress. Code / explanations might not be a 100% clear. Feedback is welcome and appreciated! "
   ]
  },
  {
   "cell_type": "code",
   "execution_count": null,
   "metadata": {
    "collapsed": true
   },
   "outputs": [],
   "source": [
    "# np is the alias for numpy, makes it easier to write\n",
    "# np.<some function> instead of numpy.<some function>\n",
    "import numpy as np\n",
    "\n",
    "# for plotting! \n",
    "# alias it to plt\n",
    "import matplotlib.pyplot as plt\n",
    "%matplotlib inline"
   ]
  },
  {
   "cell_type": "markdown",
   "metadata": {},
   "source": [
    "# The problem with `python` lists"
   ]
  },
  {
   "cell_type": "code",
   "execution_count": null,
   "metadata": {
    "collapsed": false
   },
   "outputs": [],
   "source": [
    "a = [1, 2, 3]\n",
    "b = [2, 3, 4]\n",
    "\n",
    "a + b"
   ]
  },
  {
   "cell_type": "markdown",
   "metadata": {},
   "source": [
    "Intuitively, [1,2,3] + [2,3,4] should add up to [3, 5, 7]\n",
    "This isn't very intuitive for the math-y kind of problems we'll e dealing with\n",
    "\n",
    "How would we deal with this in numpy?"
   ]
  },
  {
   "cell_type": "code",
   "execution_count": null,
   "metadata": {
    "collapsed": false
   },
   "outputs": [],
   "source": [
    "a = np.array([1, 2, 3]) # input is still a python list, which is converted into a numpy list\n",
    "b = np.array([2, 3, 4])\n",
    "\n",
    "a + b"
   ]
  },
  {
   "cell_type": "markdown",
   "metadata": {},
   "source": [
    "The result is also a numpy array. Neat!\n",
    "\n",
    "Another problem with python lists are they're very slow (compared to numpy arrays).\n",
    "This is [because](https://stackoverflow.com/questions/8385602/why-are-numpy-arrays-so-fast):\n",
    "- Numpy arrays are densely packed arrays of a single type. Python lists, by contrast, are arrays of pointers to objects, even when all of them are of the same type.\n",
    "- Many Numpy operations are implemented in C, avoiding the general cost of loops in Python. Numpy therefore is very fast! (provided you use numpy properly)\n",
    "- Numpy arrays are memory efficient.\n",
    "\n",
    "Let's verify that numpy is faster!"
   ]
  },
  {
   "cell_type": "code",
   "execution_count": null,
   "metadata": {
    "collapsed": false
   },
   "outputs": [],
   "source": [
    "A = range(10000)\n",
    "B = range(10000)\n",
    "\n",
    "%timeit [a + b for (a, b) in zip(A, B)]"
   ]
  },
  {
   "cell_type": "code",
   "execution_count": null,
   "metadata": {
    "collapsed": false
   },
   "outputs": [],
   "source": [
    "A = np.array(A)\n",
    "B = np.array(B)\n",
    "\n",
    "%timeit A + B"
   ]
  },
  {
   "cell_type": "markdown",
   "metadata": {},
   "source": [
    "That's much, much faster! \n",
    "\n",
    "Of course, while numpy arrays are great, they do have some limitations:\n",
    "- They cannot be modified after creation, you can't call `arr.append(elem)` to add more elements, like you can do with python lists. You'd need to create new arrays. And no, there's no way to get around this.\n",
    "- There are limits on how big of a numpy array you can create\n",
    "- It's harder to write 'good' and 'fast' numpy code, unless you know it pretty well. Good news: That's what this workshop aims to do!"
   ]
  },
  {
   "cell_type": "markdown",
   "metadata": {
    "collapsed": true
   },
   "source": [
    "## Numpy array types\n",
    "\n",
    "As we already mentioned earlier, numpy arrays are strongly typed. Types are either inferred when you create the list or you can explicitly specify the type.."
   ]
  },
  {
   "cell_type": "code",
   "execution_count": null,
   "metadata": {
    "collapsed": false
   },
   "outputs": [],
   "source": [
    "a = np.array([1, 2, 3])\n",
    "b = np.array([1., 2.3, 4.5])\n",
    "c = np.array([\"a\", \"b\", \"c\"])\n",
    "print a.dtype, b.dtype, c.dtype"
   ]
  },
  {
   "cell_type": "code",
   "execution_count": null,
   "metadata": {
    "collapsed": false
   },
   "outputs": [],
   "source": [
    "a = np.array([\"1\", \"2\", \"3\"], dtype=np.int64)\n",
    "print a.dtype, a"
   ]
  },
  {
   "cell_type": "code",
   "execution_count": null,
   "metadata": {
    "collapsed": false
   },
   "outputs": [],
   "source": [
    "type(a)"
   ]
  },
  {
   "cell_type": "code",
   "execution_count": null,
   "metadata": {
    "collapsed": false
   },
   "outputs": [],
   "source": [
    "print type(a[0])"
   ]
  },
  {
   "cell_type": "code",
   "execution_count": null,
   "metadata": {
    "collapsed": false
   },
   "outputs": [],
   "source": [
    "# to see size of the array, you can use len() or arr.size or call np.size\n",
    "print len(a), a.size, np.size(a)"
   ]
  },
  {
   "cell_type": "code",
   "execution_count": null,
   "metadata": {
    "collapsed": false
   },
   "outputs": [],
   "source": [
    "# convert this array to a numpy float array\n",
    "a_list = range(1, 101)\n",
    "print a_list\n",
    "a_np = ?"
   ]
  },
  {
   "cell_type": "markdown",
   "metadata": {},
   "source": [
    "### Creating 2 (or more) dimensional numpy arrays\n"
   ]
  },
  {
   "cell_type": "code",
   "execution_count": null,
   "metadata": {
    "collapsed": false
   },
   "outputs": [],
   "source": [
    "a = np.array([[1,2], [3,4]])\n",
    "print a"
   ]
  },
  {
   "cell_type": "code",
   "execution_count": null,
   "metadata": {
    "collapsed": false
   },
   "outputs": [],
   "source": [
    "# the .shape attribute tells you about the dimensions of the array\n",
    "a.shape"
   ]
  },
  {
   "cell_type": "code",
   "execution_count": null,
   "metadata": {
    "collapsed": false
   },
   "outputs": [],
   "source": [
    "# the size attribute tells you the number of total elements\n",
    "a.size"
   ]
  },
  {
   "cell_type": "code",
   "execution_count": null,
   "metadata": {
    "collapsed": false
   },
   "outputs": [],
   "source": [
    "# len only considers the number of rows - use with caution!\n",
    "len(a)"
   ]
  },
  {
   "cell_type": "code",
   "execution_count": null,
   "metadata": {
    "collapsed": false
   },
   "outputs": [],
   "source": [
    "# the ndim property tells you the number of dimensions. for a simple array created from a list\n",
    "# it will be 1, for a matrix it will be 2, so on\n",
    "a.ndim"
   ]
  },
  {
   "cell_type": "code",
   "execution_count": null,
   "metadata": {
    "collapsed": false
   },
   "outputs": [],
   "source": [
    "# note that all functions that can \n",
    "# be accessed using <numpy array>.function() can also be called using np.function(<numpy array>)\n",
    "print np.shape(a), np.size(a)"
   ]
  },
  {
   "cell_type": "markdown",
   "metadata": {},
   "source": [
    "## Crash course for numpy array indexing\n",
    "### 1-D\n",
    "Let's look at one-dimensional lists"
   ]
  },
  {
   "cell_type": "code",
   "execution_count": null,
   "metadata": {
    "collapsed": true
   },
   "outputs": [],
   "source": [
    "# arange is numpy equivalent of range\n",
    "a = np.arange(1, 101)"
   ]
  },
  {
   "cell_type": "code",
   "execution_count": null,
   "metadata": {
    "collapsed": false
   },
   "outputs": [],
   "source": [
    "a"
   ]
  },
  {
   "cell_type": "code",
   "execution_count": null,
   "metadata": {
    "collapsed": false
   },
   "outputs": [],
   "source": [
    "# how do I get the first element?\n",
    "a[0]"
   ]
  },
  {
   "cell_type": "code",
   "execution_count": null,
   "metadata": {
    "collapsed": false
   },
   "outputs": [],
   "source": [
    "# how do I get the 17th element?\n",
    "a[?]"
   ]
  },
  {
   "cell_type": "code",
   "execution_count": null,
   "metadata": {
    "collapsed": false
   },
   "outputs": [],
   "source": [
    "# very similar to list indexing!\n",
    "# beginning to 10th (inclusive)\n",
    "a[:10]"
   ]
  },
  {
   "cell_type": "code",
   "execution_count": null,
   "metadata": {
    "collapsed": false
   },
   "outputs": [],
   "source": [
    "# guess! 5th to 25th\n",
    "a[?:?]"
   ]
  },
  {
   "cell_type": "code",
   "execution_count": null,
   "metadata": {
    "collapsed": false
   },
   "outputs": [],
   "source": [
    "# numpy arrays also support negative indexing, just like python lists / strings\n",
    "# -1 -> last element, -2 -> last but one element, etc\n",
    "print a[-1], a[-2]"
   ]
  },
  {
   "cell_type": "code",
   "execution_count": null,
   "metadata": {
    "collapsed": false
   },
   "outputs": [],
   "source": [
    "# extract the last ten elements\n",
    "a[?]"
   ]
  },
  {
   "cell_type": "markdown",
   "metadata": {},
   "source": [
    "## 2-D (matrix)"
   ]
  },
  {
   "cell_type": "code",
   "execution_count": null,
   "metadata": {
    "collapsed": false
   },
   "outputs": [],
   "source": [
    "a = np.array([np.arange(1,11) * _ for _ in np.arange(1, 11)])\n",
    "print a"
   ]
  },
  {
   "cell_type": "code",
   "execution_count": null,
   "metadata": {
    "collapsed": false
   },
   "outputs": [],
   "source": [
    "# get element at 0, 0. \n",
    "a[0, 0] # note that this is much more elegant than the list syntax"
   ]
  },
  {
   "cell_type": "code",
   "execution_count": null,
   "metadata": {
    "collapsed": false
   },
   "outputs": [],
   "source": [
    "# get element at 5, 5\n",
    "a[?, ?]"
   ]
  },
  {
   "cell_type": "code",
   "execution_count": null,
   "metadata": {
    "collapsed": false
   },
   "outputs": [],
   "source": [
    "# get first 5 rows\n",
    "a[:5]"
   ]
  },
  {
   "cell_type": "code",
   "execution_count": null,
   "metadata": {
    "collapsed": false
   },
   "outputs": [],
   "source": [
    "# get first 5 columns\n",
    "# remember ':' means get everything\n",
    "a[:, :5]"
   ]
  },
  {
   "cell_type": "code",
   "execution_count": null,
   "metadata": {
    "collapsed": false
   },
   "outputs": [],
   "source": [
    "# can you extract 8, 10, 12, 14?\n",
    "a[?, ?]"
   ]
  },
  {
   "cell_type": "code",
   "execution_count": null,
   "metadata": {
    "collapsed": false
   },
   "outputs": [],
   "source": [
    "# extract [36, 45, 54] out of the array\n",
    "a[?, ?]"
   ]
  },
  {
   "cell_type": "code",
   "execution_count": null,
   "metadata": {
    "collapsed": false
   },
   "outputs": [],
   "source": [
    "# try extracting [36, 45, 54] using negative indexing\n",
    "a[?, ?]"
   ]
  },
  {
   "cell_type": "code",
   "execution_count": null,
   "metadata": {
    "collapsed": false
   },
   "outputs": [],
   "source": [
    "# extract [[10, 15, 20, 25], \n",
    "#          [12, 18, 24, 30], \n",
    "#          [14, 21, 28, 35]]\n",
    "a[?, ?]"
   ]
  },
  {
   "cell_type": "markdown",
   "metadata": {},
   "source": [
    "## More indexing: Masks"
   ]
  },
  {
   "cell_type": "code",
   "execution_count": null,
   "metadata": {
    "collapsed": false
   },
   "outputs": [],
   "source": [
    "a = np.arange(1, 6)\n",
    "print a"
   ]
  },
  {
   "cell_type": "markdown",
   "metadata": {},
   "source": [
    "A mask is an array of bools that tells np to get only certain elements. Below is a simple example"
   ]
  },
  {
   "cell_type": "code",
   "execution_count": null,
   "metadata": {
    "collapsed": false
   },
   "outputs": [],
   "source": [
    "a[[True, False, True, False,True]]"
   ]
  },
  {
   "cell_type": "code",
   "execution_count": null,
   "metadata": {
    "collapsed": false
   },
   "outputs": [],
   "source": [
    "# you can create masks by using comparision operators like >, <, etc on numpy arrays. they return masks!\n",
    "a > 3"
   ]
  },
  {
   "cell_type": "code",
   "execution_count": null,
   "metadata": {
    "collapsed": false
   },
   "outputs": [],
   "source": [
    "# so to get all elements > 3,\n",
    "a[a>3]"
   ]
  },
  {
   "cell_type": "code",
   "execution_count": null,
   "metadata": {
    "collapsed": true
   },
   "outputs": [],
   "source": [
    "# note that the '>' operator is not applied to the array itself, but on all elements. \n",
    "# this is called broadcasting\n",
    "\n",
    "# let's create a larger array \n",
    "a = np.arange(1, 101)"
   ]
  },
  {
   "cell_type": "code",
   "execution_count": null,
   "metadata": {
    "collapsed": false
   },
   "outputs": [],
   "source": [
    "# extract odd numbers\n",
    "a[?]"
   ]
  },
  {
   "cell_type": "code",
   "execution_count": null,
   "metadata": {
    "collapsed": false
   },
   "outputs": [],
   "source": [
    "# extract even numbers\n",
    "a[?]"
   ]
  },
  {
   "cell_type": "code",
   "execution_count": null,
   "metadata": {
    "collapsed": false
   },
   "outputs": [],
   "source": [
    "# extract odd numbers > 50\n",
    "a[?]"
   ]
  },
  {
   "cell_type": "code",
   "execution_count": null,
   "metadata": {
    "collapsed": false
   },
   "outputs": [],
   "source": [
    "a = np.array([np.arange(1,11) * _ for _ in np.arange(1, 11)])\n",
    "a"
   ]
  },
  {
   "cell_type": "code",
   "execution_count": null,
   "metadata": {
    "collapsed": false
   },
   "outputs": [],
   "source": [
    "# extract all odd numbers \n",
    "a[?]"
   ]
  },
  {
   "cell_type": "code",
   "execution_count": null,
   "metadata": {
    "collapsed": false
   },
   "outputs": [],
   "source": [
    "# extract numbers divisible by both 3 & 5\n",
    "a[?]"
   ]
  },
  {
   "cell_type": "markdown",
   "metadata": {},
   "source": [
    "# ndarray manipulation\n",
    "## Converting between 1D & 2D (or more) ndarrays"
   ]
  },
  {
   "cell_type": "code",
   "execution_count": null,
   "metadata": {
    "collapsed": false
   },
   "outputs": [],
   "source": [
    "a = np.arange(1, 101)\n",
    "print a"
   ]
  },
  {
   "cell_type": "code",
   "execution_count": null,
   "metadata": {
    "collapsed": false
   },
   "outputs": [],
   "source": [
    "# reshape the array to a 10x10 matrix\n",
    "a = a.reshape(10, 10)\n",
    "print a.shape\n",
    "a"
   ]
  },
  {
   "cell_type": "code",
   "execution_count": null,
   "metadata": {
    "collapsed": false
   },
   "outputs": [],
   "source": [
    "# flattens *any* ndarray to a 1D array\n",
    "a = a.flatten()\n",
    "print a.shape\n",
    "a"
   ]
  },
  {
   "cell_type": "code",
   "execution_count": null,
   "metadata": {
    "collapsed": false
   },
   "outputs": [],
   "source": [
    "a = np.arange(1, 101).reshape(10, 10)\n",
    "print a.shape\n",
    "\n",
    "# you can't reshape into an invalid shape\n",
    "a.reshape(10, 9)"
   ]
  },
  {
   "cell_type": "markdown",
   "metadata": {},
   "source": [
    "## Reassignment of numpy vectors: `np.zeros` and `np.ones`"
   ]
  },
  {
   "cell_type": "code",
   "execution_count": null,
   "metadata": {
    "collapsed": false
   },
   "outputs": [],
   "source": [
    "# you can create a ndarray with zeros using np.zeros\n",
    "# array of 10 zeros\n",
    "a = np.zeros(10)\n",
    "# a 10x10 array of zeros\n",
    "b = np.zeros((10, 10))\n",
    "\n",
    "print a.shape, b.shape\n",
    "\n",
    "print a"
   ]
  },
  {
   "cell_type": "code",
   "execution_count": null,
   "metadata": {
    "collapsed": false
   },
   "outputs": [],
   "source": [
    "print b"
   ]
  },
  {
   "cell_type": "code",
   "execution_count": null,
   "metadata": {
    "collapsed": false
   },
   "outputs": [],
   "source": [
    "# alternatively, you can do the same with ones\n",
    "a = np.ones(10)\n",
    "print a"
   ]
  },
  {
   "cell_type": "code",
   "execution_count": null,
   "metadata": {
    "collapsed": false
   },
   "outputs": [],
   "source": [
    "b = np.ones((10, 10))\n",
    "print b"
   ]
  },
  {
   "cell_type": "markdown",
   "metadata": {},
   "source": [
    "Why would you want this?\n",
    "Remember you can't call `array.append(element)` on numpy arrays.\n",
    "For instance, if you want to create a numpy array with the squares of numbers from 100 to 200 (inclusive), then, you can't create an empty array and append elements to it (as you would in vanilla python). \n",
    "\n",
    "Instead you'd create a array of size 101 (zeros or ones) and then populate using assignment, like so:"
   ]
  },
  {
   "cell_type": "code",
   "execution_count": null,
   "metadata": {
    "collapsed": false
   },
   "outputs": [],
   "source": [
    "squares = np.zeros(101)\n",
    "for index, i in enumerate(range(100, 201)):\n",
    "    squares[index] = i*i\n",
    "squares"
   ]
  },
  {
   "cell_type": "code",
   "execution_count": null,
   "metadata": {
    "collapsed": false
   },
   "outputs": [],
   "source": [
    "# you can also assign to slices\n",
    "a = np.zeros(10)\n",
    "a[:5] = [1, 4, 9, 16, 25]\n",
    "a"
   ]
  },
  {
   "cell_type": "code",
   "execution_count": null,
   "metadata": {
    "collapsed": false
   },
   "outputs": [],
   "source": [
    "# let's make a problem to test all that we've learnt so far\n",
    "# a fibonacci matrix is a (n, n-1) matrix\n",
    "# at the 0th row, it contains [1, 1, 0, 0, ...]\n",
    "# at the 1st row, it contains [1, 1, 2, 0, ...]\n",
    "# at the 2nd row, it contains [1, 1, 2, 3, ...]\n",
    "# so on until there aren't any non-zero elements\n",
    "\n",
    "# example for n = 6\n",
    "fib_mat = np.array([\n",
    "        [1, 1, 0, 0, 0, 0],\n",
    "        [1, 1, 2, 0, 0, 0],\n",
    "        [1, 1, 2, 3, 0, 0],\n",
    "        [1, 1, 2, 3, 5, 0],\n",
    "        [1, 1, 2, 3, 5, 8],\n",
    "    ])\n",
    "print fib_mat"
   ]
  },
  {
   "cell_type": "code",
   "execution_count": null,
   "metadata": {
    "collapsed": false
   },
   "outputs": [],
   "source": [
    "n = 6\n",
    "\n",
    "# fill this function up\n",
    "def fib_row(n, k):\n",
    "    pass\n",
    "\n",
    "# fill this function up\n",
    "def generate_fib_matrix(n):\n",
    "    fib_matrix = np.zeros((n, n))\n",
    "    return fib_matrix\n",
    "\n",
    "generate_fib_matrix(n)"
   ]
  },
  {
   "cell_type": "markdown",
   "metadata": {},
   "source": [
    "## Stacking and concatenating arrays"
   ]
  },
  {
   "cell_type": "markdown",
   "metadata": {
    "collapsed": true
   },
   "source": [
    "Sometimes it's not possible to know the sizes of the array beforehand. In these cases, you can either accumulate the values in a list and convert it to a numpy array afterwards OR you can use `np.hstack` or `np.vstack`:"
   ]
  },
  {
   "cell_type": "code",
   "execution_count": null,
   "metadata": {
    "collapsed": false
   },
   "outputs": [],
   "source": [
    "# hstack stacks arrays horizontally\n",
    "a = np.array([1, 2, 3])\n",
    "b = np.array([4, 5, 6])\n",
    "\n",
    "np.hstack((a, b))"
   ]
  },
  {
   "cell_type": "code",
   "execution_count": null,
   "metadata": {
    "collapsed": false
   },
   "outputs": [],
   "source": [
    "# vstack stacks arrays along the vertical axis (axis=0)\n",
    "np.vstack((a, b))"
   ]
  },
  {
   "cell_type": "code",
   "execution_count": null,
   "metadata": {
    "collapsed": false
   },
   "outputs": [],
   "source": [
    "# equivalent to hstack. note that concatenate needs the axis to exist. it won't create a new axis\n",
    "# so, we can't vertical stack (unless the array is already a 2-D array)\n",
    "np.concatenate((a, b))"
   ]
  },
  {
   "cell_type": "code",
   "execution_count": null,
   "metadata": {
    "collapsed": false
   },
   "outputs": [],
   "source": [
    "# similar to concatenate, but creates a new axis\n",
    "np.stack((a, b))"
   ]
  },
  {
   "cell_type": "markdown",
   "metadata": {},
   "source": [
    "## Transposes\n",
    "With vectors and matrices, often you'd need to take their transpose."
   ]
  },
  {
   "cell_type": "code",
   "execution_count": null,
   "metadata": {
    "collapsed": false
   },
   "outputs": [],
   "source": [
    "a = np.arange(1, 11).reshape(5, 2)\n",
    "print a.shape\n",
    "a"
   ]
  },
  {
   "cell_type": "code",
   "execution_count": null,
   "metadata": {
    "collapsed": false
   },
   "outputs": [],
   "source": [
    "a.T"
   ]
  },
  {
   "cell_type": "code",
   "execution_count": null,
   "metadata": {
    "collapsed": false
   },
   "outputs": [],
   "source": [
    "a.transpose()"
   ]
  },
  {
   "cell_type": "code",
   "execution_count": null,
   "metadata": {
    "collapsed": false
   },
   "outputs": [],
   "source": [
    "# be careful!\n",
    "a.transpose()[0, 0] = 999\n",
    "a"
   ]
  },
  {
   "cell_type": "code",
   "execution_count": null,
   "metadata": {
    "collapsed": false
   },
   "outputs": [],
   "source": [
    "a.transpose().copy()[0, 0] = 1000\n",
    "a"
   ]
  },
  {
   "cell_type": "markdown",
   "metadata": {},
   "source": [
    "#### 1D vector transpose"
   ]
  },
  {
   "cell_type": "code",
   "execution_count": null,
   "metadata": {
    "collapsed": false
   },
   "outputs": [],
   "source": [
    "# 1-D vectors don't change its shape when you transpose it\n",
    "a = np.arange(1, 11)\n",
    "print a.shape\n",
    "print a\n",
    "\n",
    "print a.T.shape\n",
    "print a.T"
   ]
  },
  {
   "cell_type": "code",
   "execution_count": null,
   "metadata": {
    "collapsed": false
   },
   "outputs": [],
   "source": [
    "# to convert this to a column vector, reshape it first to a 2-D vector and then transpose\n",
    "a = np.arange(1, 11).reshape(1, 10)\n",
    "print a.shape\n",
    "print a\n",
    "\n",
    "print a.T.shape\n",
    "print a.T"
   ]
  },
  {
   "cell_type": "markdown",
   "metadata": {},
   "source": [
    "# ndarray iteration and anti-patterns"
   ]
  },
  {
   "cell_type": "code",
   "execution_count": null,
   "metadata": {
    "collapsed": true
   },
   "outputs": [],
   "source": [
    "# TODO"
   ]
  },
  {
   "cell_type": "markdown",
   "metadata": {},
   "source": [
    "# Plotting \n",
    "\n"
   ]
  },
  {
   "cell_type": "code",
   "execution_count": null,
   "metadata": {
    "collapsed": false
   },
   "outputs": [],
   "source": [
    "# plot first 100 squares\n",
    "x = np.arange(1, 101)\n",
    "y = x ** 2\n",
    "# first arg=x-coords, second-arg=y-coords\n",
    "plt.plot(x, y)"
   ]
  },
  {
   "cell_type": "code",
   "execution_count": null,
   "metadata": {
    "collapsed": false
   },
   "outputs": [],
   "source": [
    "# customize it!\n",
    "plt.plot(x, y, linestyle=\"dashed\", color=\"red\")"
   ]
  },
  {
   "cell_type": "code",
   "execution_count": null,
   "metadata": {
    "collapsed": false
   },
   "outputs": [],
   "source": [
    "# if you give a single argument, then it generates [0, 1, ..., N-1] as x-coords\n",
    "plt.plot(y)"
   ]
  },
  {
   "cell_type": "code",
   "execution_count": null,
   "metadata": {
    "collapsed": false
   },
   "outputs": [],
   "source": [
    "# third arg can be style, in a succint format\n",
    "plt.plot(x, y, 'r--')"
   ]
  },
  {
   "cell_type": "code",
   "execution_count": null,
   "metadata": {
    "collapsed": false
   },
   "outputs": [],
   "source": [
    "# for multiple plots. each call would change color for next call!\n",
    "plt.plot(x**2, label=\"Squares\")\n",
    "plt.plot(x**3, label=\"Cubes\")\n",
    "# display legend\n",
    "# give position\n",
    "plt.legend(loc=\"upper left\") \n",
    "\n",
    "# squares are not even visible! change the y-axis limits\n",
    "plt.ylim((-10e4, np.max(x**3)))\n",
    "# show a grid\n",
    "plt.grid()"
   ]
  },
  {
   "cell_type": "code",
   "execution_count": null,
   "metadata": {
    "collapsed": false
   },
   "outputs": [],
   "source": [
    "# show sin wave\n",
    "# -6pi -> 6pi\n",
    "# np.linspace is a useful function, increase num and see what happens!\n",
    "rads = np.linspace(-6*np.pi, 6*np.pi, num=10000)\n",
    "sin_values = np.sin(rads)\n",
    "plt.plot(rads, sin_values)\n",
    "plt.grid()\n",
    "plt.ylim((-1.5, 1.5))\n",
    "\n",
    "# draw axes\n",
    "plt.axhline(color=\"black\", linestyle=\"--\")\n",
    "plt.axvline(color=\"black\", linestyle=\"--\")"
   ]
  },
  {
   "cell_type": "markdown",
   "metadata": {},
   "source": [
    "# Use case (1): (Amortized) Time Complexity of search algorithms"
   ]
  },
  {
   "cell_type": "code",
   "execution_count": null,
   "metadata": {
    "collapsed": true
   },
   "outputs": [],
   "source": [
    "import time"
   ]
  },
  {
   "cell_type": "code",
   "execution_count": null,
   "metadata": {
    "collapsed": true
   },
   "outputs": [],
   "source": [
    "# all algorithm implementations are sourced from: https://github.com/TheAlgorithms/Python"
   ]
  },
  {
   "cell_type": "code",
   "execution_count": null,
   "metadata": {
    "collapsed": true
   },
   "outputs": [],
   "source": [
    "def binary_search(sorted_collection, item):\n",
    "    left = 0\n",
    "    right = len(sorted_collection) - 1\n",
    "\n",
    "    while left <= right:\n",
    "        midpoint = (left + right) // 2\n",
    "        current_item = sorted_collection[midpoint]\n",
    "        if current_item == item:\n",
    "            return midpoint\n",
    "        else:\n",
    "            if item < current_item:\n",
    "                right = midpoint - 1\n",
    "            else:\n",
    "                left = midpoint + 1\n",
    "    return None"
   ]
  },
  {
   "cell_type": "code",
   "execution_count": null,
   "metadata": {
    "collapsed": true
   },
   "outputs": [],
   "source": [
    "def linear_search(sequence, target):\n",
    "    for index, item in enumerate(sequence):\n",
    "        if item == target:\n",
    "            return index\n",
    "    return None"
   ]
  },
  {
   "cell_type": "code",
   "execution_count": null,
   "metadata": {
    "collapsed": false
   },
   "outputs": [],
   "source": [
    "# let's look at an application of numpy. \n",
    "# analyze the amortized (wall clock) time complexity of a couple of search algorithms for sorted lists\n",
    "def search_trail(array_size, repetitions, search_algorithm):\n",
    "    # the array to search from\n",
    "    arr = list(range(array_size))\n",
    "    times = np.zeros(repetitions, dtype=np.float64)\n",
    "    found = np.zeros(repetitions, dtype=np.bool)\n",
    "    for idx, _ in enumerate(np.arange(repetitions)):\n",
    "        to_search = np.random.randint(low=0, high=array_size * 2)\n",
    "        # use python's search first to see if the element is in\n",
    "        is_in = to_search in arr\n",
    "        start = time.time()\n",
    "        # don't care about return value\n",
    "        search_algorithm(arr, to_search)\n",
    "        end = time.time()\n",
    "        times[idx] = end - start\n",
    "        found[idx] = is_in\n",
    "\n",
    "    return times, found\n",
    "\n",
    "\n",
    "trails = 1000\n",
    "sizes = np.arange(10000, 200000, 10000)\n",
    "times = np.zeros((sizes.shape[0], 2))\n",
    "# let's compute this for multiple array sizes to see the increase over time\n",
    "for idx, array_size in enumerate(sizes):\n",
    "    print \"{} of {}: Running trial for array size {}\".format(idx + 1, sizes.shape[0], array_size)\n",
    "    print \"\\tLinear Search\"\n",
    "    lin_times, _ = search_trail(array_size, trails, linear_search)\n",
    "    print \"\\tBinary Search\"\n",
    "    bin_times, _ = search_trail(array_size, trails, binary_search)\n",
    "    times[idx] = [lin_times.mean(), bin_times.mean()]\n",
    "print times"
   ]
  },
  {
   "cell_type": "code",
   "execution_count": null,
   "metadata": {
    "collapsed": false
   },
   "outputs": [],
   "source": [
    "# create a plot!\n",
    "plt.plot()"
   ]
  },
  {
   "cell_type": "markdown",
   "metadata": {},
   "source": [
    "# Use case (2): (Amortized) Time Complexity of sort algorithms"
   ]
  },
  {
   "cell_type": "code",
   "execution_count": null,
   "metadata": {
    "collapsed": false
   },
   "outputs": [],
   "source": [
    "from sorting_algorithms import *"
   ]
  },
  {
   "cell_type": "code",
   "execution_count": null,
   "metadata": {
    "collapsed": false
   },
   "outputs": [],
   "source": [
    "def sort_trail(array_initializer, array_size, repetitions, sort_algorithm):\n",
    "    times = np.zeros(repetitions, dtype=np.float64)\n",
    "    for idx, _ in enumerate(np.arange(repetitions)):\n",
    "        if idx % 25 == 0:\n",
    "            print \"\\t\\tRunning trail: {}\".format(idx+1)\n",
    "        # create a arraay\n",
    "        arr = array_initializer(array_size)\n",
    "        start = time.time()\n",
    "        sort_algorithm(arr)\n",
    "        end = time.time()\n",
    "        times[idx] = end - start\n",
    "    return times\n",
    "\n",
    "sorting_algorithms = [bubble_sort, insertion_sort, heap_sort, merge_sort, quick_sort, selection_sort]\n",
    "sorting_algorithms_names = [func.__name__ for func in sorting_algorithms]\n",
    "num_algorithms = len(sorting_algorithms)\n",
    "\n",
    "def random_initilizer(size):\n",
    "    return np.random.randint(0, size, size=size)\n",
    "\n",
    "trails = 100\n",
    "sizes = np.arange(100, 1000, 100)\n",
    "times = np.zeros((sizes.shape[0], num_algorithms))\n",
    "# let's compute this for multiple array sizes to see the increase over time\n",
    "for idx, array_size in enumerate(sizes):\n",
    "    print \"{} of {}: Running trial for array size {}\".format(idx + 1, sizes.shape[0], array_size)\n",
    "    for alg_index, (sorting_algorithm, name) in enumerate(zip(sorting_algorithms, sorting_algorithms_names)):\n",
    "        print \"\\t{}\".format(name)\n",
    "        alg_time = sort_trail(random_initilizer, array_size, trails, sorting_algorithm)\n",
    "        times[idx, alg_index] = alg_time.mean()\n",
    "    \n",
    "\n",
    "print times"
   ]
  },
  {
   "cell_type": "code",
   "execution_count": null,
   "metadata": {
    "collapsed": false
   },
   "outputs": [],
   "source": [
    "# view results\n",
    "idx = 0\n",
    "print sorting_algorithms_names[idx], times[:, idx]"
   ]
  },
  {
   "cell_type": "code",
   "execution_count": null,
   "metadata": {
    "collapsed": true
   },
   "outputs": [],
   "source": [
    "# plot this! "
   ]
  }
 ],
 "metadata": {
  "kernelspec": {
   "display_name": "Python 2",
   "language": "python",
   "name": "python2"
  },
  "language_info": {
   "codemirror_mode": {
    "name": "ipython",
    "version": 2
   },
   "file_extension": ".py",
   "mimetype": "text/x-python",
   "name": "python",
   "nbconvert_exporter": "python",
   "pygments_lexer": "ipython2",
   "version": "2.7.12"
  }
 },
 "nbformat": 4,
 "nbformat_minor": 1
}
